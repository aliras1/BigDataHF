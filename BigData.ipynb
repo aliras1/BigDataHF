{
 "cells": [
  {
   "cell_type": "markdown",
   "id": "69813743-6bf1-4166-9aa1-1505315a688a",
   "metadata": {
    "tags": []
   },
   "source": [
    "# BKK 2"
   ]
  },
  {
   "cell_type": "code",
   "execution_count": 1,
   "id": "38b3a570-2f30-4d5d-a8a6-d0eb34709488",
   "metadata": {},
   "outputs": [
    {
     "name": "stdout",
     "output_type": "stream",
     "text": [
      "test\n"
     ]
    }
   ],
   "source": [
    "print('test')"
   ]
  }
 ],
 "metadata": {
  "kernelspec": {
   "display_name": "Python 3.11.0 ('bigdata')",
   "language": "python",
   "name": "python3"
  },
  "language_info": {
   "codemirror_mode": {
    "name": "ipython",
    "version": 3
   },
   "file_extension": ".py",
   "mimetype": "text/x-python",
   "name": "python",
   "nbconvert_exporter": "python",
   "pygments_lexer": "ipython3",
   "version": "3.11.0"
  },
  "vscode": {
   "interpreter": {
    "hash": "525e6c6f370fc852f22963a9a35d092605e55a83bdae6f5c93da5f209fd9f109"
   }
  }
 },
 "nbformat": 4,
 "nbformat_minor": 5
}
